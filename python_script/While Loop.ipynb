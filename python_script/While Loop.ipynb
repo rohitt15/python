{
 "cells": [
  {
   "cell_type": "code",
   "execution_count": 4,
   "metadata": {},
   "outputs": [
    {
     "name": "stdout",
     "output_type": "stream",
     "text": [
      "Number is :0\n",
      "Number is :1\n",
      "Number is :2\n",
      "Number is :3\n",
      "Number is :4\n"
     ]
    }
   ],
   "source": [
    "#while loop\n",
    "x=0\n",
    "while(x<5):\n",
    "    print(f\"Number is :{x}\")\n",
    "    x=x+1"
   ]
  },
  {
   "cell_type": "code",
   "execution_count": 22,
   "metadata": {},
   "outputs": [
    {
     "name": "stdout",
     "output_type": "stream",
     "text": [
      "Even Number is: 0\n",
      "Even Number is: 2\n",
      "Even Number is: 4\n",
      "Even Number is: 6\n",
      "Even Number is: 8\n",
      "Even Number is: 10\n"
     ]
    }
   ],
   "source": [
    "#Even number in 10\n",
    "\n",
    "x=0\n",
    "while (x<=10):\n",
    "    if(x%2==0):\n",
    "        print(f\"Even Number is: {x}\")\n",
    "    #else:\n",
    "     #   print(f\"Odd Number is: {x}\")\n",
    "    x=x+1"
   ]
  },
  {
   "cell_type": "code",
   "execution_count": null,
   "metadata": {},
   "outputs": [],
   "source": [
    "#condition in the loop\n",
    "#Suppose when we are passing 'pass' in the loop it doesnt restrict it will continue\n",
    "#Suppose when we are passing 'continue' when case it satisfy then again it goes to top of the loop and flow again started.\n",
    "#Suppose when we are passing 'break'  when case it satisfy then then it comes out of the loop"
   ]
  },
  {
   "cell_type": "code",
   "execution_count": 23,
   "metadata": {},
   "outputs": [
    {
     "name": "stdout",
     "output_type": "stream",
     "text": [
      "End of the scripts\n"
     ]
    }
   ],
   "source": [
    "x=[1,2,3]\n",
    "for item in x:\n",
    "    #comment #this give the error IndentationError: unexpected indent \n",
    "    #because we are passing the comment or unwanted things after the start of the loop,\n",
    "    #so to resirict that we pass the \"pass\" key word to continue the excution of the loop\n",
    "    pass\n",
    "print(\"End of the scripts\")\n"
   ]
  },
  {
   "cell_type": "code",
   "execution_count": 27,
   "metadata": {},
   "outputs": [
    {
     "name": "stdout",
     "output_type": "stream",
     "text": [
      "r\n",
      "h\n",
      "i\n",
      "t\n"
     ]
    }
   ],
   "source": [
    "mystring=\"rohit\"\n",
    "for letter in mystring:\n",
    "    if (letter =='o') :\n",
    "        continue #when we used continue in the loop after satify of the condition,it goes to start of the loop again\n",
    "    print(letter)"
   ]
  },
  {
   "cell_type": "code",
   "execution_count": 29,
   "metadata": {},
   "outputs": [
    {
     "name": "stdout",
     "output_type": "stream",
     "text": [
      "t\n",
      "e\n",
      "c\n",
      "h\n",
      "n\n",
      "o\n"
     ]
    }
   ],
   "source": [
    "myString='technology'\n",
    "for letter in myString:\n",
    "    if(letter =='l'):\n",
    "        break #when we used break in the loop after satify of the condition ,it move out of the loop\n",
    "    print(letter)"
   ]
  },
  {
   "cell_type": "code",
   "execution_count": null,
   "metadata": {},
   "outputs": [],
   "source": []
  }
 ],
 "metadata": {
  "kernelspec": {
   "display_name": "Python 3",
   "language": "python",
   "name": "python3"
  },
  "language_info": {
   "codemirror_mode": {
    "name": "ipython",
    "version": 3
   },
   "file_extension": ".py",
   "mimetype": "text/x-python",
   "name": "python",
   "nbconvert_exporter": "python",
   "pygments_lexer": "ipython3",
   "version": "3.7.3"
  }
 },
 "nbformat": 4,
 "nbformat_minor": 2
}
